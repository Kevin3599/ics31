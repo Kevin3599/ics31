{
 "cells": [
  {
   "cell_type": "code",
   "execution_count": null,
   "metadata": {},
   "outputs": [],
   "source": [
    "drive_input = input()\n",
    "\n",
    "# Modify the string literal below\n",
    "some_str = ':\\\\Games'\n",
    "\n",
    "print(drive_input, end='')\n",
    "print(some_str)"
   ]
  },
  {
   "cell_type": "code",
   "execution_count": null,
   "metadata": {},
   "outputs": [],
   "source": [
    "input_str = input()\n",
    "while True:\n",
    "    if input_str == \"123456\":\n",
    "        break\n",
    "    else:\n",
    "        print('Incorrect password, try again')\n",
    "        input_str = input()\n",
    "print('got it!')"
   ]
  },
  {
   "cell_type": "code",
   "execution_count": 1,
   "metadata": {},
   "outputs": [
    {
     "name": "stdout",
     "output_type": "stream",
     "text": [
      "25\n"
     ]
    }
   ],
   "source": [
    "num = int(input())\n",
    "for i in range(1,num): \n",
    "    num = i*2 + num\n",
    "print(num)\n",
    "    "
   ]
  },
  {
   "cell_type": "code",
   "execution_count": null,
   "metadata": {},
   "outputs": [
    {
     "name": "stdout",
     "output_type": "stream",
     "text": [
      "10\n"
     ]
    }
   ],
   "source": [
    "num = int(input('input an intrger: '))\n",
    "total = 0\n",
    "current_num = 1\n",
    "while  current_num <= num:\n",
    "    total = total + current_num\n",
    "    current_num += 2\n",
    "print(total)"
   ]
  },
  {
   "cell_type": "code",
   "execution_count": null,
   "metadata": {},
   "outputs": [],
   "source": [
    "def print_dict(data):\n",
    "    # 打印所有键\n",
    "    print(\"Keys:\")\n",
    "    keys = list(data.keys())  # 转换为列表以便使用索引\n",
    "    index = 0\n",
    "    while index < len(keys):\n",
    "        print(keys[index])\n",
    "        index += 1\n",
    "    \n",
    "    # 打印所有值\n",
    "    print(\"\\nValues:\")\n",
    "    values = list(data.values())  # 转换为列表以便使用索引\n",
    "    index = 0  # 重置索引计数器\n",
    "    while index < len(values):\n",
    "        print(values[index])\n",
    "        index += 1\n"
   ]
  },
  {
   "cell_type": "code",
   "execution_count": null,
   "metadata": {},
   "outputs": [],
   "source": [
    "def print_data(data):\n",
    "    index = 0\n",
    "    while index < len(data):\n",
    "        print(data[index])\n",
    "        index += 1"
   ]
  },
  {
   "cell_type": "code",
   "execution_count": 3,
   "metadata": {},
   "outputs": [
    {
     "name": "stdout",
     "output_type": "stream",
     "text": [
      "9\n"
     ]
    }
   ],
   "source": [
    "def greeting():\n",
    "    usr_in = input('Are youn doing trick or treat?') \n",
    "    if usr_in == 'yes':\n",
    "        print('9')\n",
    "    elif usr_in == 'no':\n",
    "        print('8')\n",
    "    else:\n",
    "        print('7')\n",
    "greeting()"
   ]
  },
  {
   "cell_type": "code",
   "execution_count": null,
   "metadata": {},
   "outputs": [],
   "source": [
    "text = 'Hello, world!'\n",
    "print(f'{text[::-1]}')"
   ]
  },
  {
   "cell_type": "code",
   "execution_count": null,
   "metadata": {},
   "outputs": [],
   "source": [
    "text = input()\n",
    "print(f\"{'-'*5}{text}{'-'*5}\")"
   ]
  },
  {
   "cell_type": "code",
   "execution_count": null,
   "metadata": {},
   "outputs": [],
   "source": [
    "age = \"19\"\n",
    "name = 'kevin'\n",
    "s = \"name %s age %d\" % (name, int(age))  # 注意添加 % 运算符\n",
    "print(s)"
   ]
  },
  {
   "cell_type": "code",
   "execution_count": null,
   "metadata": {},
   "outputs": [],
   "source": [
    "text = \" Hello World \"\n",
    "\n",
    "# 常用方法\n",
    "print(text.strip())         # 去除两端空格\n",
    "print(text.lower())         # 转小写\n",
    "print(text.upper())         # 转大写\n",
    "print(text.replace('o', 'x'))  # 替换\n",
    "print(text.split())         # 分割成列表\n",
    "print(','.join(['a','b']))  # 列表合并为字符串"
   ]
  },
  {
   "cell_type": "code",
   "execution_count": null,
   "metadata": {},
   "outputs": [],
   "source": [
    "str1 = \"A#B#C#D#E\"\n",
    "str2 = str1.split('#')\n",
    "print(str2)\n",
    "str3 = ','.join(str2)\n",
    "print(str3)\n"
   ]
  },
  {
   "cell_type": "code",
   "execution_count": null,
   "metadata": {},
   "outputs": [],
   "source": [
    "dragon = \"hello\"\n",
    "\n",
    "dict = {\n",
    "    \"hello\": \"world\",\n",
    "    \"dragon\": [\"fly\"],\n",
    "    0: \"eight\",\n",
    "    \"31\": 31.0,\n",
    "    \"0\": 8\n",
    "}\n",
    "len(dragon)"
   ]
  },
  {
   "cell_type": "code",
   "execution_count": null,
   "metadata": {},
   "outputs": [],
   "source": [
    "from collections import namedtuple\n",
    "Point = namedtuple('ponits',['x','y'])\n",
    "p = Point(3, 4)\n",
    "print(p.x)  # 3，更好理解\n"
   ]
  },
  {
   "cell_type": "code",
   "execution_count": null,
   "metadata": {},
   "outputs": [],
   "source": [
    "str = ('tuple')\n",
    "print(f'type: {type(str)}')"
   ]
  },
  {
   "cell_type": "code",
   "execution_count": null,
   "metadata": {},
   "outputs": [],
   "source": [
    "def print_num():\n",
    "    num = int(input())\n",
    "    for i in range(num+2):\n",
    "        print(num, end='')\n",
    "print_num()\n"
   ]
  },
  {
   "cell_type": "code",
   "execution_count": null,
   "metadata": {},
   "outputs": [],
   "source": [
    "from collections import namedtuple\n",
    "SchoolInfo = namedtuple('SchoolInfo', ['school_name', 'city', 'state', 'zip'])\n",
    "info = (input(), input(), input(), int(input()))\n",
    "school = SchoolInfo(*info)\n",
    "print(school.school_name)\n",
    "print(school.city)\n",
    "print(school.state)\n",
    "print(school.zip)"
   ]
  },
  {
   "cell_type": "code",
   "execution_count": null,
   "metadata": {},
   "outputs": [],
   "source": [
    "x=2**2.3\n",
    "print(x)"
   ]
  },
  {
   "cell_type": "code",
   "execution_count": null,
   "metadata": {},
   "outputs": [],
   "source": [
    "mylist=[]\n",
    "if mylist[x] == 31:\n",
    "    print(\"ok\")\n",
    "if (10/x>y):\n",
    "   print(\"ok\")\n",
    "else:\n",
    "    print(\"no\")"
   ]
  },
  {
   "cell_type": "code",
   "execution_count": 9,
   "metadata": {},
   "outputs": [
    {
     "name": "stdout",
     "output_type": "stream",
     "text": [
      "Thanks!\n"
     ]
    }
   ],
   "source": [
    "num = input('Enter a positive integer: ')\n",
    "while num.isdigit() and int(num) <=0:\n",
    "    num = input(\"That's not a positive integer! Try again:\")\n",
    "print(\"Thanks!\")"
   ]
  },
  {
   "cell_type": "code",
   "execution_count": 10,
   "metadata": {},
   "outputs": [],
   "source": [
    "for i in range(10,0,2):\n",
    "    print (i)"
   ]
  },
  {
   "cell_type": "code",
   "execution_count": 13,
   "metadata": {},
   "outputs": [],
   "source": [
    "def sum(list):\n",
    "    total = 0\n",
    "    for index in list:\n",
    "        total += index\n",
    "    print (total)"
   ]
  },
  {
   "cell_type": "code",
   "execution_count": null,
   "metadata": {},
   "outputs": [],
   "source": [
    "list = [1, 2, 3, 4, 5]\n",
    "list2 = [6, 7, 8, 9, 10]\n",
    "list.insert(len(list2) // 2, \"fries\")\n",
    "print(list)"
   ]
  },
  {
   "cell_type": "code",
   "execution_count": null,
   "metadata": {},
   "outputs": [],
   "source": [
    "highway_number = int(input())\n",
    "if 1 < highway_number < 100:\n",
    "    print(f'I-{highway_number} is primary, going east/west.')\n",
    "elif 100 < highway_number < 999:\n",
    "    primary_number = highway_number % 100\n",
    "    if 0 < primary_number < 100:\n",
    "        print(f'I-{highway_number} is auxiliary, serving I-{primary_number}, going east/west.')\n",
    "    else:\n",
    "        print(f'{highway_number} is not a valid interstate highway number.')\n",
    "else:\n",
    "    print(f'{highway_number} is not a valid interstate highway number.')\n",
    "\n",
    "\n"
   ]
  },
  {
   "cell_type": "code",
   "execution_count": null,
   "metadata": {},
   "outputs": [],
   "source": [
    "month = input()\n",
    "day = int(input())\n",
    "dict_month = {'january': 1, 'february': 2, 'march': 3, 'april': 4, 'may': 5, 'june': 6,'july': 7, 'august': 8, 'september': 9, 'october': 10, 'november': 11, 'december': 12} \n",
    "if month in dict_month:\n",
    "    month_number = dict_month[month]\n",
    "    if 3<month_number<6:\n",
    "        if day < 21:\n",
    "            print('Spring.')\n",
    "    elif 6<month_number<9:\n",
    "        if day < 22:\n",
    "            print('Summer.')\n",
    "    elif 9<month_number<12:\n",
    "        if day < 21:\n",
    "            print('Fall.')\n",
    "    elif month_number == 12 or month_number == 1 or month_number == 2:\n",
    "        if day < 20:\n",
    "            print('Winter.')\n",
    "    else:\n",
    "        print('Invalid')"
   ]
  },
  {
   "cell_type": "code",
   "execution_count": null,
   "metadata": {},
   "outputs": [],
   "source": [
    "name = 'turing'\n",
    "name[5:3]"
   ]
  },
  {
   "cell_type": "code",
   "execution_count": null,
   "metadata": {},
   "outputs": [],
   "source": [
    "print(\"whcih room is O\")\n",
    "classroom = int(input())\n"
   ]
  },
  {
   "cell_type": "code",
   "execution_count": null,
   "metadata": {},
   "outputs": [],
   "source": [
    "student = (\"Tom\", \"CS\", 3.8)\n",
    "name, major, gpa = student\n",
    "print(f\"{name} is studying {major} with GPA {gpa}\")\n"
   ]
  },
  {
   "cell_type": "code",
   "execution_count": null,
   "metadata": {},
   "outputs": [],
   "source": [
    "m = int(input())\n",
    "country_data = input().split()\n",
    "country_list = country_data.append()\n",
    "print(\"Jen's favorite country:{country_list[m]}\")\n",
    "''' Your code goes here '''\n"
   ]
  },
  {
   "cell_type": "code",
   "execution_count": null,
   "metadata": {},
   "outputs": [],
   "source": [
    "m = int(input())\n",
    "pantry_items = input().split()\n",
    "if m == 1:\n",
    "    suffix = 'st'\n",
    "elif m == 2:\n",
    "    suffix = 'nd'\n",
    "elif m == 3:\n",
    "    suffix = 'rd'\n",
    "else:\n",
    "    suffix = 'th'\n",
    "print(f\"{pantry_items[m - 1]} is the {m}{suffix} pantry item to expire.\")"
   ]
  },
  {
   "cell_type": "code",
   "execution_count": null,
   "metadata": {},
   "outputs": [],
   "source": [
    "actors = ['Pitt', 'Damon']\n",
    "actors.insert(1, 'Affleck')\n",
    "print(actors[0], actors[1], actors[2])"
   ]
  },
  {
   "cell_type": "code",
   "execution_count": null,
   "metadata": {},
   "outputs": [],
   "source": [
    "color_choices = input()\n",
    "rons_choice = int(input())\n",
    "color_list = color_choices.split()\n",
    "print(f\"Ron's color is {color_list[rons_choice]}\")"
   ]
  },
  {
   "cell_type": "markdown",
   "metadata": {},
   "source": []
  },
  {
   "cell_type": "code",
   "execution_count": null,
   "metadata": {},
   "outputs": [],
   "source": [
    "a_list = [3.5, 6, True, \"abc\"]\n",
    "# a_list: [3.5, 6, True, \"abc\"]\n",
    "\n",
    "a_list[3] = a_list[1] // 2\n",
    "# a_list[1] = 6，6 // 2 = 3\n",
    "# a_list: [3.5, 6, True, 3]\n",
    "\n",
    "a_list[:2] = [\"a\", \"b\"]\n",
    "# 替换前两个元素\n",
    "# a_list: [\"a\", \"b\", True, 3]\n",
    "\n",
    "a_list.append(\"abc\" in a_list)\n",
    "# \"abc\" not in a_list → False\n",
    "# a_list: [\"a\", \"b\", True, 3, False]\n",
    "\n",
    "print(len(a_list))\n",
    "# 输出：5\n",
    "\n",
    "a_list.pop()\n",
    "# 弹出最后一个元素 False\n",
    "# a_list: [\"a\", \"b\", True, 3]\n",
    "\n",
    "a_list.pop()\n",
    "# 弹出 3\n",
    "# a_list: [\"a\", \"b\", True]\n",
    "\n",
    "a_list.pop()\n",
    "# 弹出 True\n",
    "# a_list: [\"a\", \"b\"]\n",
    "\n",
    "a_list.pop()\n",
    "# 弹出 \"b\"\n",
    "# a_list: [\"a\"]\n",
    "\n",
    "a_list.pop()\n",
    "# 弹出 \"a\"\n",
    "# a_list: []\n"
   ]
  },
  {
   "cell_type": "code",
   "execution_count": null,
   "metadata": {},
   "outputs": [],
   "source": [
    "a_list = [3.5, 6, True, \"abc\"]\n",
    "a_list.pop()"
   ]
  },
  {
   "cell_type": "code",
   "execution_count": null,
   "metadata": {},
   "outputs": [],
   "source": [
    "a=[[0,1],[1,2],[2,3]]\n",
    "a.insert(2,a[1])\n",
    "a.append(a[3])\n",
    "print (a)\n",
    "a[1][1]=0\n",
    "a[4][1]=4\n",
    "print(a)"
   ]
  },
  {
   "cell_type": "code",
   "execution_count": null,
   "metadata": {},
   "outputs": [],
   "source": []
  },
  {
   "cell_type": "code",
   "execution_count": null,
   "metadata": {},
   "outputs": [],
   "source": [
    "str = str(input())\n",
    "print(\"The third character of\",str,\"is\",str[2])\n",
    "''' Your code goes here '''\n"
   ]
  },
  {
   "cell_type": "code",
   "execution_count": null,
   "metadata": {},
   "outputs": [],
   "source": [
    "\n",
    "my_str = 'Agt2t3afc2kjMhagrds!'\n",
    "print(my_str[0:5:2])"
   ]
  },
  {
   "cell_type": "code",
   "execution_count": null,
   "metadata": {},
   "outputs": [],
   "source": [
    "my_string = input()\n",
    "\n",
    "''' Your code goes here '''\n",
    "partial_quote = my_string[len(my_string)//2::2]\n",
    "print(partial_quote)"
   ]
  }
 ],
 "metadata": {
  "kernelspec": {
   "display_name": "Python 3",
   "language": "python",
   "name": "python3"
  },
  "language_info": {
   "codemirror_mode": {
    "name": "ipython",
    "version": 3
   },
   "file_extension": ".py",
   "mimetype": "text/x-python",
   "name": "python",
   "nbconvert_exporter": "python",
   "pygments_lexer": "ipython3",
   "version": "3.13.0"
  }
 },
 "nbformat": 4,
 "nbformat_minor": 2
}
