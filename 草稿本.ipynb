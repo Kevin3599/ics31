{
 "cells": [
  {
   "cell_type": "code",
   "execution_count": 4,
   "metadata": {},
   "outputs": [
    {
     "name": "stdout",
     "output_type": "stream",
     "text": [
      ":\\Games\n"
     ]
    }
   ],
   "source": [
    "drive_input = input()\n",
    "\n",
    "# Modify the string literal below\n",
    "some_str = ':\\\\Games'\n",
    "\n",
    "print(drive_input, end='')\n",
    "print(some_str)"
   ]
  },
  {
   "cell_type": "code",
   "execution_count": 2,
   "metadata": {},
   "outputs": [
    {
     "name": "stdout",
     "output_type": "stream",
     "text": [
      "!dlrow ,olleH\n"
     ]
    }
   ],
   "source": [
    "text = 'Hello, world!'\n",
    "print(f'{text[::-1]}')"
   ]
  },
  {
   "cell_type": "code",
   "execution_count": 4,
   "metadata": {},
   "outputs": [
    {
     "data": {
      "text/plain": [
       "5"
      ]
     },
     "execution_count": 4,
     "metadata": {},
     "output_type": "execute_result"
    }
   ],
   "source": [
    "dragon = \"hello\"\n",
    "\n",
    "dict = {\n",
    "    \"hello\": \"world\",\n",
    "    \"dragon\": [\"fly\"],\n",
    "    0: \"eight\",\n",
    "    \"31\": 31.0,\n",
    "    \"0\": 8\n",
    "}\n",
    "len(dragon)"
   ]
  },
  {
   "cell_type": "code",
   "execution_count": 3,
   "metadata": {},
   "outputs": [
    {
     "name": "stdout",
     "output_type": "stream",
     "text": [
      "33333"
     ]
    }
   ],
   "source": [
    "def print_num():\n",
    "    num = int(input())\n",
    "    for i in range(num+2):\n",
    "        print(num, end='')\n",
    "print_num()\n"
   ]
  },
  {
   "cell_type": "code",
   "execution_count": 4,
   "metadata": {},
   "outputs": [
    {
     "ename": "KeyboardInterrupt",
     "evalue": "Interrupted by user",
     "output_type": "error",
     "traceback": [
      "\u001b[1;31m---------------------------------------------------------------------------\u001b[0m",
      "\u001b[1;31mKeyboardInterrupt\u001b[0m                         Traceback (most recent call last)",
      "Cell \u001b[1;32mIn[4], line 2\u001b[0m\n\u001b[0;32m      1\u001b[0m \u001b[38;5;28;01mfrom\u001b[39;00m \u001b[38;5;21;01mcollections\u001b[39;00m \u001b[38;5;28;01mimport\u001b[39;00m namedtuple\n\u001b[1;32m----> 2\u001b[0m school_info \u001b[38;5;241m=\u001b[39m (\u001b[38;5;28minput\u001b[39m(), \u001b[38;5;28;43minput\u001b[39;49m\u001b[43m(\u001b[49m\u001b[43m)\u001b[49m, \u001b[38;5;28minput\u001b[39m(), \u001b[38;5;28mint\u001b[39m(\u001b[38;5;28minput\u001b[39m()))\n\u001b[0;32m      3\u001b[0m school_inf  \u001b[38;5;241m=\u001b[39m namedtuple(\u001b[38;5;124m'\u001b[39m\u001b[38;5;124mschool_inf\u001b[39m\u001b[38;5;124m'\u001b[39m, [\u001b[38;5;124m'\u001b[39m\u001b[38;5;124mschool_name\u001b[39m\u001b[38;5;124m'\u001b[39m, \u001b[38;5;124m'\u001b[39m\u001b[38;5;124mcity\u001b[39m\u001b[38;5;124m'\u001b[39m, \u001b[38;5;124m'\u001b[39m\u001b[38;5;124mstate\u001b[39m\u001b[38;5;124m'\u001b[39m,\u001b[38;5;124m'\u001b[39m\u001b[38;5;124mzip\u001b[39m\u001b[38;5;124m'\u001b[39m])\n\u001b[0;32m      4\u001b[0m \u001b[38;5;28mprint\u001b[39m(school_inf\u001b[38;5;241m.\u001b[39mschool_name)\n",
      "File \u001b[1;32m~\\AppData\\Roaming\\Python\\Python39\\site-packages\\ipykernel\\kernelbase.py:1282\u001b[0m, in \u001b[0;36mKernel.raw_input\u001b[1;34m(self, prompt)\u001b[0m\n\u001b[0;32m   1280\u001b[0m     msg \u001b[38;5;241m=\u001b[39m \u001b[38;5;124m\"\u001b[39m\u001b[38;5;124mraw_input was called, but this frontend does not support input requests.\u001b[39m\u001b[38;5;124m\"\u001b[39m\n\u001b[0;32m   1281\u001b[0m     \u001b[38;5;28;01mraise\u001b[39;00m StdinNotImplementedError(msg)\n\u001b[1;32m-> 1282\u001b[0m \u001b[38;5;28;01mreturn\u001b[39;00m \u001b[38;5;28;43mself\u001b[39;49m\u001b[38;5;241;43m.\u001b[39;49m\u001b[43m_input_request\u001b[49m\u001b[43m(\u001b[49m\n\u001b[0;32m   1283\u001b[0m \u001b[43m    \u001b[49m\u001b[38;5;28;43mstr\u001b[39;49m\u001b[43m(\u001b[49m\u001b[43mprompt\u001b[49m\u001b[43m)\u001b[49m\u001b[43m,\u001b[49m\n\u001b[0;32m   1284\u001b[0m \u001b[43m    \u001b[49m\u001b[38;5;28;43mself\u001b[39;49m\u001b[38;5;241;43m.\u001b[39;49m\u001b[43m_parent_ident\u001b[49m\u001b[43m[\u001b[49m\u001b[38;5;124;43m\"\u001b[39;49m\u001b[38;5;124;43mshell\u001b[39;49m\u001b[38;5;124;43m\"\u001b[39;49m\u001b[43m]\u001b[49m\u001b[43m,\u001b[49m\n\u001b[0;32m   1285\u001b[0m \u001b[43m    \u001b[49m\u001b[38;5;28;43mself\u001b[39;49m\u001b[38;5;241;43m.\u001b[39;49m\u001b[43mget_parent\u001b[49m\u001b[43m(\u001b[49m\u001b[38;5;124;43m\"\u001b[39;49m\u001b[38;5;124;43mshell\u001b[39;49m\u001b[38;5;124;43m\"\u001b[39;49m\u001b[43m)\u001b[49m\u001b[43m,\u001b[49m\n\u001b[0;32m   1286\u001b[0m \u001b[43m    \u001b[49m\u001b[43mpassword\u001b[49m\u001b[38;5;241;43m=\u001b[39;49m\u001b[38;5;28;43;01mFalse\u001b[39;49;00m\u001b[43m,\u001b[49m\n\u001b[0;32m   1287\u001b[0m \u001b[43m\u001b[49m\u001b[43m)\u001b[49m\n",
      "File \u001b[1;32m~\\AppData\\Roaming\\Python\\Python39\\site-packages\\ipykernel\\kernelbase.py:1325\u001b[0m, in \u001b[0;36mKernel._input_request\u001b[1;34m(self, prompt, ident, parent, password)\u001b[0m\n\u001b[0;32m   1322\u001b[0m \u001b[38;5;28;01mexcept\u001b[39;00m \u001b[38;5;167;01mKeyboardInterrupt\u001b[39;00m:\n\u001b[0;32m   1323\u001b[0m     \u001b[38;5;66;03m# re-raise KeyboardInterrupt, to truncate traceback\u001b[39;00m\n\u001b[0;32m   1324\u001b[0m     msg \u001b[38;5;241m=\u001b[39m \u001b[38;5;124m\"\u001b[39m\u001b[38;5;124mInterrupted by user\u001b[39m\u001b[38;5;124m\"\u001b[39m\n\u001b[1;32m-> 1325\u001b[0m     \u001b[38;5;28;01mraise\u001b[39;00m \u001b[38;5;167;01mKeyboardInterrupt\u001b[39;00m(msg) \u001b[38;5;28;01mfrom\u001b[39;00m \u001b[38;5;28;01mNone\u001b[39;00m\n\u001b[0;32m   1326\u001b[0m \u001b[38;5;28;01mexcept\u001b[39;00m \u001b[38;5;167;01mException\u001b[39;00m:\n\u001b[0;32m   1327\u001b[0m     \u001b[38;5;28mself\u001b[39m\u001b[38;5;241m.\u001b[39mlog\u001b[38;5;241m.\u001b[39mwarning(\u001b[38;5;124m\"\u001b[39m\u001b[38;5;124mInvalid Message:\u001b[39m\u001b[38;5;124m\"\u001b[39m, exc_info\u001b[38;5;241m=\u001b[39m\u001b[38;5;28;01mTrue\u001b[39;00m)\n",
      "\u001b[1;31mKeyboardInterrupt\u001b[0m: Interrupted by user"
     ]
    }
   ],
   "source": [
    "from collections import namedtuple\n",
    "school_info = (input(), input(), input(), int(input()))\n",
    "school_inf  = namedtuple('school_inf', ['school_name', 'city', 'state','zip'])\n",
    "print(school_inf.school_name)\n",
    "print(school_inf.city)\n",
    "print(school_inf.state)\n",
    "print(school_inf.zip)"
   ]
  },
  {
   "cell_type": "code",
   "execution_count": 5,
   "metadata": {},
   "outputs": [
    {
     "name": "stdout",
     "output_type": "stream",
     "text": [
      "I-90 is primary, going east/west.\n"
     ]
    }
   ],
   "source": [
    "highway_number = int(input())\n",
    "if 1 < highway_number < 100:\n",
    "    print(f'I-{highway_number} is primary, going east/west.')\n",
    "elif 100 < highway_number < 999:\n",
    "    primary_number = highway_number % 100\n",
    "    if 0 < primary_number < 100:\n",
    "        print(f'I-{highway_number} is auxiliary, serving I-{primary_number}, going east/west.')\n",
    "    else:\n",
    "        print(f'{highway_number} is not a valid interstate highway number.')\n",
    "else:\n",
    "    print(f'{highway_number} is not a valid interstate highway number.')\n",
    "\n",
    "\n"
   ]
  },
  {
   "cell_type": "code",
   "execution_count": 6,
   "metadata": {},
   "outputs": [],
   "source": [
    "month = input()\n",
    "day = int(input())\n",
    "dict_month = {'january': 1, 'february': 2, 'march': 3, 'april': 4, 'may': 5, 'june': 6,'july': 7, 'august': 8, 'september': 9, 'october': 10, 'november': 11, 'december': 12} \n",
    "if month in dict_month:\n",
    "    month_number = dict_month[month]\n",
    "    if 3<month_number<6:\n",
    "        if day < 21:\n",
    "            print('Spring.')\n",
    "    elif 6<month_number<9:\n",
    "        if day < 22:\n",
    "            print('Summer.')\n",
    "    elif 9<month_number<12:\n",
    "        if day < 21:\n",
    "            print('Fall.')\n",
    "    elif month_number == 12 or month_number == 1 or month_number == 2:\n",
    "        if day < 20:\n",
    "            print('Winter.')\n",
    "    else:\n",
    "        print('Invalid')"
   ]
  },
  {
   "cell_type": "code",
   "execution_count": 5,
   "metadata": {},
   "outputs": [
    {
     "ename": "ValueError",
     "evalue": "invalid literal for int() with base 10: ''",
     "output_type": "error",
     "traceback": [
      "\u001b[1;31m---------------------------------------------------------------------------\u001b[0m",
      "\u001b[1;31mValueError\u001b[0m                                Traceback (most recent call last)",
      "Cell \u001b[1;32mIn[5], line 1\u001b[0m\n\u001b[1;32m----> 1\u001b[0m m \u001b[38;5;241m=\u001b[39m \u001b[38;5;28;43mint\u001b[39;49m\u001b[43m(\u001b[49m\u001b[38;5;28;43minput\u001b[39;49m\u001b[43m(\u001b[49m\u001b[43m)\u001b[49m\u001b[43m)\u001b[49m\n\u001b[0;32m      2\u001b[0m country_data \u001b[38;5;241m=\u001b[39m \u001b[38;5;28minput\u001b[39m()\u001b[38;5;241m.\u001b[39msplit()\n\u001b[0;32m      3\u001b[0m country_list \u001b[38;5;241m=\u001b[39m country_data\u001b[38;5;241m.\u001b[39mappend()\n",
      "\u001b[1;31mValueError\u001b[0m: invalid literal for int() with base 10: ''"
     ]
    }
   ],
   "source": [
    "m = int(input())\n",
    "country_data = input().split()\n",
    "country_list = country_data.append()\n",
    "print(\"Jen's favorite country:{country_list[m]}\")\n",
    "''' Your code goes here '''\n"
   ]
  },
  {
   "cell_type": "code",
   "execution_count": null,
   "metadata": {},
   "outputs": [
    {
     "name": "stdout",
     "output_type": "stream",
     "text": [
      "2 is the 1st pantry item to expire.\n"
     ]
    }
   ],
   "source": [
    "m = int(input())\n",
    "pantry_items = input().split()\n",
    "if m == 1:\n",
    "    suffix = 'st'\n",
    "elif m == 2:\n",
    "    suffix = 'nd'\n",
    "elif m == 3:\n",
    "    suffix = 'rd'\n",
    "else:\n",
    "    suffix = 'th'\n",
    "print(f\"{pantry_items[m - 1]} is the {m}{suffix} pantry item to expire.\")"
   ]
  },
  {
   "cell_type": "code",
   "execution_count": null,
   "metadata": {},
   "outputs": [
    {
     "name": "stdout",
     "output_type": "stream",
     "text": [
      "Pitt Affleck Damon\n"
     ]
    }
   ],
   "source": [
    "actors = ['Pitt', 'Damon']\n",
    "actors.insert(1, 'Affleck')\n",
    "print(actors[0], actors[1], actors[2])"
   ]
  },
  {
   "cell_type": "code",
   "execution_count": null,
   "metadata": {},
   "outputs": [
    {
     "ename": "IndexError",
     "evalue": "list index out of range",
     "output_type": "error",
     "traceback": [
      "\u001b[1;31m---------------------------------------------------------------------------\u001b[0m",
      "\u001b[1;31mIndexError\u001b[0m                                Traceback (most recent call last)",
      "Cell \u001b[1;32mIn[1], line 4\u001b[0m\n\u001b[0;32m      2\u001b[0m rons_choice \u001b[38;5;241m=\u001b[39m \u001b[38;5;28mint\u001b[39m(\u001b[38;5;28minput\u001b[39m())\n\u001b[0;32m      3\u001b[0m color_list \u001b[38;5;241m=\u001b[39m color_choices\u001b[38;5;241m.\u001b[39msplit()\n\u001b[1;32m----> 4\u001b[0m \u001b[38;5;28mprint\u001b[39m(\u001b[38;5;124mf\u001b[39m\u001b[38;5;124m\"\u001b[39m\u001b[38;5;124mRon\u001b[39m\u001b[38;5;124m'\u001b[39m\u001b[38;5;124ms color is \u001b[39m\u001b[38;5;132;01m{\u001b[39;00m\u001b[43mcolor_list\u001b[49m\u001b[43m[\u001b[49m\u001b[43mrons_choice\u001b[49m\u001b[43m]\u001b[49m\u001b[38;5;132;01m}\u001b[39;00m\u001b[38;5;124m\"\u001b[39m)\n",
      "\u001b[1;31mIndexError\u001b[0m: list index out of range"
     ]
    }
   ],
   "source": [
    "color_choices = input()\n",
    "rons_choice = int(input())\n",
    "color_list = color_choices.split()\n",
    "print(f\"Ron's color is {color_list[rons_choice]}\")"
   ]
  },
  {
   "cell_type": "markdown",
   "metadata": {},
   "source": []
  },
  {
   "cell_type": "code",
   "execution_count": null,
   "metadata": {},
   "outputs": [
    {
     "name": "stdout",
     "output_type": "stream",
     "text": [
      "5\n"
     ]
    },
    {
     "data": {
      "text/plain": [
       "'a'"
      ]
     },
     "execution_count": 2,
     "metadata": {},
     "output_type": "execute_result"
    }
   ],
   "source": [
    "a_list = [3.5, 6, True, \"abc\"]\n",
    "# a_list: [3.5, 6, True, \"abc\"]\n",
    "\n",
    "a_list[3] = a_list[1] // 2\n",
    "# a_list[1] = 6，6 // 2 = 3\n",
    "# a_list: [3.5, 6, True, 3]\n",
    "\n",
    "a_list[:2] = [\"a\", \"b\"]\n",
    "# 替换前两个元素\n",
    "# a_list: [\"a\", \"b\", True, 3]\n",
    "\n",
    "a_list.append(\"abc\" in a_list)\n",
    "# \"abc\" not in a_list → False\n",
    "# a_list: [\"a\", \"b\", True, 3, False]\n",
    "\n",
    "print(len(a_list))\n",
    "# 输出：5\n",
    "\n",
    "a_list.pop()\n",
    "# 弹出最后一个元素 False\n",
    "# a_list: [\"a\", \"b\", True, 3]\n",
    "\n",
    "a_list.pop()\n",
    "# 弹出 3\n",
    "# a_list: [\"a\", \"b\", True]\n",
    "\n",
    "a_list.pop()\n",
    "# 弹出 True\n",
    "# a_list: [\"a\", \"b\"]\n",
    "\n",
    "a_list.pop()\n",
    "# 弹出 \"b\"\n",
    "# a_list: [\"a\"]\n",
    "\n",
    "a_list.pop()\n",
    "# 弹出 \"a\"\n",
    "# a_list: []\n"
   ]
  },
  {
   "cell_type": "code",
   "execution_count": null,
   "metadata": {},
   "outputs": [
    {
     "data": {
      "text/plain": [
       "'abc'"
      ]
     },
     "execution_count": 3,
     "metadata": {},
     "output_type": "execute_result"
    }
   ],
   "source": [
    "a_list = [3.5, 6, True, \"abc\"]\n",
    "a_list.pop()"
   ]
  },
  {
   "cell_type": "code",
   "execution_count": 7,
   "metadata": {},
   "outputs": [
    {
     "name": "stdout",
     "output_type": "stream",
     "text": [
      "[[0, 1], [1, 2], [1, 2], [2, 3], [2, 3]]\n",
      "[[0, 1], [1, 0], [1, 0], [2, 4], [2, 4]]\n"
     ]
    }
   ],
   "source": [
    "a=[[0,1],[1,2],[2,3]]\n",
    "a.insert(2,a[1])\n",
    "a.append(a[3])\n",
    "print (a)\n",
    "a[1][1]=0\n",
    "a[4][1]=4\n",
    "print(a)"
   ]
  },
  {
   "cell_type": "code",
   "execution_count": null,
   "metadata": {},
   "outputs": [
    {
     "ename": "AttributeError",
     "evalue": "'str' object has no attribute 'append'",
     "output_type": "error",
     "traceback": [
      "\u001b[1;31m---------------------------------------------------------------------------\u001b[0m",
      "\u001b[1;31mAttributeError\u001b[0m                            Traceback (most recent call last)",
      "Cell \u001b[1;32mIn[9], line 4\u001b[0m\n\u001b[0;32m      2\u001b[0m rons_choice \u001b[38;5;241m=\u001b[39m \u001b[38;5;28mint\u001b[39m(\u001b[38;5;28minput\u001b[39m())\n\u001b[0;32m      3\u001b[0m color_list \u001b[38;5;241m=\u001b[39m []\n\u001b[1;32m----> 4\u001b[0m color_list \u001b[38;5;241m=\u001b[39m \u001b[43mcolor_choices\u001b[49m\u001b[38;5;241;43m.\u001b[39;49m\u001b[43mappend\u001b[49m()\n\u001b[0;32m      5\u001b[0m \u001b[38;5;28mprint\u001b[39m(\u001b[38;5;124m\"\u001b[39m\u001b[38;5;124mRon\u001b[39m\u001b[38;5;124m'\u001b[39m\u001b[38;5;124ms color is color_list[rons_choice]\u001b[39m\u001b[38;5;124m\"\u001b[39m)\n",
      "\u001b[1;31mAttributeError\u001b[0m: 'str' object has no attribute 'append'"
     ]
    }
   ],
   "source": []
  },
  {
   "cell_type": "code",
   "execution_count": null,
   "metadata": {},
   "outputs": [
    {
     "name": "stdout",
     "output_type": "stream",
     "text": [
      "The third character of tiger is g\n"
     ]
    },
    {
     "data": {
      "text/plain": [
       "' Your code goes here '"
      ]
     },
     "execution_count": 2,
     "metadata": {},
     "output_type": "execute_result"
    }
   ],
   "source": [
    "str = str(input())\n",
    "print(\"The third character of\",str,\"is\",str[2])\n",
    "''' Your code goes here '''\n"
   ]
  },
  {
   "cell_type": "code",
   "execution_count": null,
   "metadata": {},
   "outputs": [
    {
     "name": "stdout",
     "output_type": "stream",
     "text": [
      "Att\n"
     ]
    }
   ],
   "source": [
    "\n",
    "my_str = 'Agt2t3afc2kjMhagrds!'\n",
    "print(my_str[0:5:2])"
   ]
  },
  {
   "cell_type": "code",
   "execution_count": null,
   "metadata": {},
   "outputs": [
    {
     "name": "stdout",
     "output_type": "stream",
     "text": [
      "no oorwwl eordut\n"
     ]
    }
   ],
   "source": [
    "my_string = input()\n",
    "\n",
    "''' Your code goes here '''\n",
    "partial_quote = my_string[len(my_string)//2::2]\n",
    "print(partial_quote)"
   ]
  }
 ],
 "metadata": {
  "kernelspec": {
   "display_name": "Python 3",
   "language": "python",
   "name": "python3"
  },
  "language_info": {
   "codemirror_mode": {
    "name": "ipython",
    "version": 3
   },
   "file_extension": ".py",
   "mimetype": "text/x-python",
   "name": "python",
   "nbconvert_exporter": "python",
   "pygments_lexer": "ipython3",
   "version": "3.13.0"
  }
 },
 "nbformat": 4,
 "nbformat_minor": 2
}
