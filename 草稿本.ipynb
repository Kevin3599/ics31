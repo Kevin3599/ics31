{
 "cells": [
  {
   "cell_type": "code",
   "execution_count": 4,
   "metadata": {},
   "outputs": [
    {
     "name": "stdout",
     "output_type": "stream",
     "text": [
      ":\\Games\n"
     ]
    }
   ],
   "source": [
    "drive_input = input()\n",
    "\n",
    "# Modify the string literal below\n",
    "some_str = ':\\\\Games'\n",
    "\n",
    "print(drive_input, end='')\n",
    "print(some_str)"
   ]
  },
  {
   "cell_type": "code",
   "execution_count": 5,
   "metadata": {},
   "outputs": [
    {
     "ename": "ValueError",
     "evalue": "invalid literal for int() with base 10: ''",
     "output_type": "error",
     "traceback": [
      "\u001b[1;31m---------------------------------------------------------------------------\u001b[0m",
      "\u001b[1;31mValueError\u001b[0m                                Traceback (most recent call last)",
      "Cell \u001b[1;32mIn[5], line 1\u001b[0m\n\u001b[1;32m----> 1\u001b[0m m \u001b[38;5;241m=\u001b[39m \u001b[38;5;28;43mint\u001b[39;49m\u001b[43m(\u001b[49m\u001b[38;5;28;43minput\u001b[39;49m\u001b[43m(\u001b[49m\u001b[43m)\u001b[49m\u001b[43m)\u001b[49m\n\u001b[0;32m      2\u001b[0m country_data \u001b[38;5;241m=\u001b[39m \u001b[38;5;28minput\u001b[39m()\u001b[38;5;241m.\u001b[39msplit()\n\u001b[0;32m      3\u001b[0m country_list \u001b[38;5;241m=\u001b[39m country_data\u001b[38;5;241m.\u001b[39mappend()\n",
      "\u001b[1;31mValueError\u001b[0m: invalid literal for int() with base 10: ''"
     ]
    }
   ],
   "source": [
    "m = int(input())\n",
    "country_data = input().split()\n",
    "country_list = country_data.append()\n",
    "print(\"Jen's favorite country:{country_list[m]}\")\n",
    "''' Your code goes here '''\n"
   ]
  },
  {
   "cell_type": "code",
   "execution_count": null,
   "metadata": {},
   "outputs": [
    {
     "name": "stdout",
     "output_type": "stream",
     "text": [
      "2 is the 1st pantry item to expire.\n"
     ]
    }
   ],
   "source": [
    "m = int(input())\n",
    "pantry_items = input().split()\n",
    "if m == 1:\n",
    "    suffix = 'st'\n",
    "elif m == 2:\n",
    "    suffix = 'nd'\n",
    "elif m == 3:\n",
    "    suffix = 'rd'\n",
    "else:\n",
    "    suffix = 'th'\n",
    "print(f\"{pantry_items[m - 1]} is the {m}{suffix} pantry item to expire.\")"
   ]
  },
  {
   "cell_type": "code",
   "execution_count": null,
   "metadata": {},
   "outputs": [
    {
     "name": "stdout",
     "output_type": "stream",
     "text": [
      "Pitt Affleck Damon\n"
     ]
    }
   ],
   "source": [
    "actors = ['Pitt', 'Damon']\n",
    "actors.insert(1, 'Affleck')\n",
    "print(actors[0], actors[1], actors[2])"
   ]
  },
  {
   "cell_type": "code",
   "execution_count": null,
   "metadata": {},
   "outputs": [
    {
     "ename": "IndexError",
     "evalue": "list index out of range",
     "output_type": "error",
     "traceback": [
      "\u001b[1;31m---------------------------------------------------------------------------\u001b[0m",
      "\u001b[1;31mIndexError\u001b[0m                                Traceback (most recent call last)",
      "Cell \u001b[1;32mIn[1], line 4\u001b[0m\n\u001b[0;32m      2\u001b[0m rons_choice \u001b[38;5;241m=\u001b[39m \u001b[38;5;28mint\u001b[39m(\u001b[38;5;28minput\u001b[39m())\n\u001b[0;32m      3\u001b[0m color_list \u001b[38;5;241m=\u001b[39m color_choices\u001b[38;5;241m.\u001b[39msplit()\n\u001b[1;32m----> 4\u001b[0m \u001b[38;5;28mprint\u001b[39m(\u001b[38;5;124mf\u001b[39m\u001b[38;5;124m\"\u001b[39m\u001b[38;5;124mRon\u001b[39m\u001b[38;5;124m'\u001b[39m\u001b[38;5;124ms color is \u001b[39m\u001b[38;5;132;01m{\u001b[39;00m\u001b[43mcolor_list\u001b[49m\u001b[43m[\u001b[49m\u001b[43mrons_choice\u001b[49m\u001b[43m]\u001b[49m\u001b[38;5;132;01m}\u001b[39;00m\u001b[38;5;124m\"\u001b[39m)\n",
      "\u001b[1;31mIndexError\u001b[0m: list index out of range"
     ]
    }
   ],
   "source": [
    "color_choices = input()\n",
    "rons_choice = int(input())\n",
    "color_list = color_choices.split()\n",
    "print(f\"Ron's color is {color_list[rons_choice]}\")"
   ]
  },
  {
   "cell_type": "markdown",
   "metadata": {},
   "source": []
  },
  {
   "cell_type": "code",
   "execution_count": null,
   "metadata": {},
   "outputs": [
    {
     "name": "stdout",
     "output_type": "stream",
     "text": [
      "5\n"
     ]
    },
    {
     "data": {
      "text/plain": [
       "'a'"
      ]
     },
     "execution_count": 2,
     "metadata": {},
     "output_type": "execute_result"
    }
   ],
   "source": [
    "a_list = [3.5, 6, True, \"abc\"]\n",
    "# a_list: [3.5, 6, True, \"abc\"]\n",
    "\n",
    "a_list[3] = a_list[1] // 2\n",
    "# a_list[1] = 6，6 // 2 = 3\n",
    "# a_list: [3.5, 6, True, 3]\n",
    "\n",
    "a_list[:2] = [\"a\", \"b\"]\n",
    "# 替换前两个元素\n",
    "# a_list: [\"a\", \"b\", True, 3]\n",
    "\n",
    "a_list.append(\"abc\" in a_list)\n",
    "# \"abc\" not in a_list → False\n",
    "# a_list: [\"a\", \"b\", True, 3, False]\n",
    "\n",
    "print(len(a_list))\n",
    "# 输出：5\n",
    "\n",
    "a_list.pop()\n",
    "# 弹出最后一个元素 False\n",
    "# a_list: [\"a\", \"b\", True, 3]\n",
    "\n",
    "a_list.pop()\n",
    "# 弹出 3\n",
    "# a_list: [\"a\", \"b\", True]\n",
    "\n",
    "a_list.pop()\n",
    "# 弹出 True\n",
    "# a_list: [\"a\", \"b\"]\n",
    "\n",
    "a_list.pop()\n",
    "# 弹出 \"b\"\n",
    "# a_list: [\"a\"]\n",
    "\n",
    "a_list.pop()\n",
    "# 弹出 \"a\"\n",
    "# a_list: []\n"
   ]
  },
  {
   "cell_type": "code",
   "execution_count": null,
   "metadata": {},
   "outputs": [
    {
     "data": {
      "text/plain": [
       "'abc'"
      ]
     },
     "execution_count": 3,
     "metadata": {},
     "output_type": "execute_result"
    }
   ],
   "source": [
    "a_list = [3.5, 6, True, \"abc\"]\n",
    "a_list.pop()"
   ]
  },
  {
   "cell_type": "code",
   "execution_count": 7,
   "metadata": {},
   "outputs": [
    {
     "name": "stdout",
     "output_type": "stream",
     "text": [
      "[[0, 1], [1, 2], [1, 2], [2, 3], [2, 3]]\n",
      "[[0, 1], [1, 0], [1, 0], [2, 4], [2, 4]]\n"
     ]
    }
   ],
   "source": [
    "a=[[0,1],[1,2],[2,3]]\n",
    "a.insert(2,a[1])\n",
    "a.append(a[3])\n",
    "print (a)\n",
    "a[1][1]=0\n",
    "a[4][1]=4\n",
    "print(a)"
   ]
  },
  {
   "cell_type": "code",
   "execution_count": null,
   "metadata": {},
   "outputs": [
    {
     "ename": "AttributeError",
     "evalue": "'str' object has no attribute 'append'",
     "output_type": "error",
     "traceback": [
      "\u001b[1;31m---------------------------------------------------------------------------\u001b[0m",
      "\u001b[1;31mAttributeError\u001b[0m                            Traceback (most recent call last)",
      "Cell \u001b[1;32mIn[9], line 4\u001b[0m\n\u001b[0;32m      2\u001b[0m rons_choice \u001b[38;5;241m=\u001b[39m \u001b[38;5;28mint\u001b[39m(\u001b[38;5;28minput\u001b[39m())\n\u001b[0;32m      3\u001b[0m color_list \u001b[38;5;241m=\u001b[39m []\n\u001b[1;32m----> 4\u001b[0m color_list \u001b[38;5;241m=\u001b[39m \u001b[43mcolor_choices\u001b[49m\u001b[38;5;241;43m.\u001b[39;49m\u001b[43mappend\u001b[49m()\n\u001b[0;32m      5\u001b[0m \u001b[38;5;28mprint\u001b[39m(\u001b[38;5;124m\"\u001b[39m\u001b[38;5;124mRon\u001b[39m\u001b[38;5;124m'\u001b[39m\u001b[38;5;124ms color is color_list[rons_choice]\u001b[39m\u001b[38;5;124m\"\u001b[39m)\n",
      "\u001b[1;31mAttributeError\u001b[0m: 'str' object has no attribute 'append'"
     ]
    }
   ],
   "source": [
    "def test(my_list):\n",
    "     print(len(my_list))\n",
    "    print(my_list[-1])\n",
    "\n",
    "activity = [\"H\", 2, 0.0, 'is', 'good', True]\n",
    "test(activity)\n"
   ]
  },
  {
   "cell_type": "code",
   "execution_count": null,
   "metadata": {},
   "outputs": [
    {
     "name": "stdout",
     "output_type": "stream",
     "text": [
      "The third character of tiger is g\n"
     ]
    },
    {
     "data": {
      "text/plain": [
       "' Your code goes here '"
      ]
     },
     "execution_count": 2,
     "metadata": {},
     "output_type": "execute_result"
    }
   ],
   "source": [
    "str = str(input())\n",
    "print(\"The third character of\",str,\"is\",str[2])\n",
    "''' Your code goes here '''\n"
   ]
  },
  {
   "cell_type": "code",
   "execution_count": null,
   "metadata": {},
   "outputs": [
    {
     "name": "stdout",
     "output_type": "stream",
     "text": [
      "Att\n"
     ]
    }
   ],
   "source": [
    "\n",
    "my_str = 'Agt2t3afc2kjMhagrds!'\n",
    "print(my_str[0:5:2])"
   ]
  },
  {
   "cell_type": "code",
   "execution_count": null,
   "metadata": {},
   "outputs": [
    {
     "name": "stdout",
     "output_type": "stream",
     "text": [
      "no oorwwl eordut\n"
     ]
    }
   ],
   "source": [
    "my_string = input()\n",
    "\n",
    "''' Your code goes here '''\n",
    "partial_quote = my_string[len(my_string)//2::2]\n",
    "print(partial_quote)"
   ]
  }
 ],
 "metadata": {
  "kernelspec": {
   "display_name": "Python 3",
   "language": "python",
   "name": "python3"
  },
  "language_info": {
   "codemirror_mode": {
    "name": "ipython",
    "version": 3
   },
   "file_extension": ".py",
   "mimetype": "text/x-python",
   "name": "python",
   "nbconvert_exporter": "python",
   "pygments_lexer": "ipython3",
   "version": "3.13.0"
  }
 },
 "nbformat": 4,
 "nbformat_minor": 2
}
