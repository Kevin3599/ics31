{
 "cells": [
  {
   "cell_type": "code",
   "execution_count": 1,
   "metadata": {},
   "outputs": [
    {
     "name": "stdout",
     "output_type": "stream",
     "text": [
      "At position: 10\n",
      "Six 4ick 4istle sticks.\n"
     ]
    }
   ],
   "source": [
    "replace_string = input()\n",
    "tongue_twister = input()\n",
    "\n",
    "if replace_string in tongue_twister:\n",
    "    print(f'At position: {tongue_twister.rfind(replace_string)}')\n",
    "    modified = tongue_twister.replace(replace_string, \"4\", 2)\n",
    "    print(modified)\n",
    "else:\n",
    "    print(\"No matches\")\n"
   ]
  },
  {
   "cell_type": "code",
   "execution_count": null,
   "metadata": {},
   "outputs": [],
   "source": [
    "course1 = input()\n",
    "course2 = input()\n",
    "if course1 == course1:\n",
    "    print(\"Same value\")\n",
    "else:\n",
    "    print(max(ord(course1), ord(course2)))"
   ]
  },
  {
   "cell_type": "code",
   "execution_count": 5,
   "metadata": {},
   "outputs": [
    {
     "name": "stdout",
     "output_type": "stream",
     "text": [
      "ke\n"
     ]
    }
   ],
   "source": [
    "def half():\n",
    "    str = input()\n",
    "    mid =  len(str)//2\n",
    "    re=str[:mid]\n",
    "    print(re)\n",
    "half()"
   ]
  },
  {
   "cell_type": "code",
   "execution_count": 6,
   "metadata": {},
   "outputs": [
    {
     "name": "stdout",
     "output_type": "stream",
     "text": [
      "ke_vin\n"
     ]
    }
   ],
   "source": [
    "def add():\n",
    "    text = input()\n",
    "    mid = len(text)//2\n",
    "    result = text[:mid] + '_' + text[mid:]\n",
    "    print(result)\n",
    "add()"
   ]
  },
  {
   "cell_type": "code",
   "execution_count": 8,
   "metadata": {},
   "outputs": [
    {
     "name": "stdout",
     "output_type": "stream",
     "text": [
      "kev\n"
     ]
    }
   ],
   "source": [
    "def half():\n",
    "    str = input()\n",
    "    mid =  len(str)//2\n",
    "    re=str[:mid]\n",
    "    print(re)\n",
    "half()"
   ]
  },
  {
   "cell_type": "code",
   "execution_count": 20,
   "metadata": {},
   "outputs": [
    {
     "name": "stdout",
     "output_type": "stream",
     "text": [
      "TasfrFas\n"
     ]
    }
   ],
   "source": [
    "band = \"Tears for Fears\"\n",
    "print (band[::2])"
   ]
  },
  {
   "cell_type": "code",
   "execution_count": null,
   "metadata": {},
   "outputs": [],
   "source": []
  },
  {
   "cell_type": "code",
   "execution_count": null,
   "metadata": {},
   "outputs": [],
   "source": []
  },
  {
   "cell_type": "code",
   "execution_count": 25,
   "metadata": {},
   "outputs": [],
   "source": [
    "my_string = input()\n",
    "if my_string.startswith('G'):\n",
    "    print(\"String starts with G\") \n",
    "    if my_string.isupper():   \n",
    "        print(\"All uppercase\")\n",
    "    else:                        \n",
    "        print(\"No condition fits\")"
   ]
  },
  {
   "cell_type": "code",
   "execution_count": 29,
   "metadata": {},
   "outputs": [
    {
     "name": "stdout",
     "output_type": "stream",
     "text": [
      "heloo\n"
     ]
    }
   ],
   "source": [
    "string_data = input()\n",
    "if string_data[0].isupper():\n",
    "    print(string_data.lower())\n",
    "else:\n",
    "    print(string_data.capitalize())"
   ]
  },
  {
   "cell_type": "code",
   "execution_count": 12,
   "metadata": {},
   "outputs": [
    {
     "name": "stdout",
     "output_type": "stream",
     "text": [
      "Six thick ththistle sticks.\n"
     ]
    }
   ],
   "source": [
    "def add_new(text, token):\n",
    "    mid = len(text) // 2\n",
    "    result = text[:mid] + token + text[mid:]\n",
    "    print(result)\n",
    "\n",
    "# Example usage\n",
    "add_new(tongue_twister, replace_string)"
   ]
  },
  {
   "cell_type": "code",
   "execution_count": 15,
   "metadata": {},
   "outputs": [
    {
     "name": "stdout",
     "output_type": "stream",
     "text": [
      "cold-paly\n"
     ]
    }
   ],
   "source": [
    "def add_new(text,token):\n",
    "    mid = len(text) // 2\n",
    "    result = text[:mid] + token + text[mid:]\n",
    "    print(result)\n",
    "add_new(\"coldpaly\",\"-\")"
   ]
  }
 ],
 "metadata": {
  "kernelspec": {
   "display_name": "Python 3",
   "language": "python",
   "name": "python3"
  },
  "language_info": {
   "codemirror_mode": {
    "name": "ipython",
    "version": 3
   },
   "file_extension": ".py",
   "mimetype": "text/x-python",
   "name": "python",
   "nbconvert_exporter": "python",
   "pygments_lexer": "ipython3",
   "version": "3.9.1rc1"
  }
 },
 "nbformat": 4,
 "nbformat_minor": 2
}
